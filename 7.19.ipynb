{
 "cells": [
  {
   "cell_type": "markdown",
   "metadata": {},
   "source": [
    "# 循环\n",
    "- 循环是一种控制语句块重复执行的结构\n",
    "- while  适用于广度遍历\n",
    "- for    开发中经常使用"
   ]
  },
  {
   "cell_type": "code",
   "execution_count": 1,
   "metadata": {},
   "outputs": [
    {
     "name": "stdout",
     "output_type": "stream",
     "text": [
      "d\n",
      "c\n",
      "b\n",
      "a\n"
     ]
    }
   ],
   "source": [
    "a='abcd'\n",
    "i=4\n",
    "while i>0:\n",
    "    i-=1\n",
    "    print(a[i])"
   ]
  },
  {
   "cell_type": "markdown",
   "metadata": {},
   "source": [
    "## while 循环\n",
    "- 当一个条件保持真的时候while循环重复执行语句\n",
    "- while 循环一定要有结束条件，否则很容易进入死循环\n",
    "- while 循环的语法是：\n",
    "\n",
    "    while loop-contunuation-conndition:\n",
    "\n",
    "        Statement"
   ]
  },
  {
   "cell_type": "markdown",
   "metadata": {},
   "source": [
    "## 示例：\n",
    "sum = 0\n",
    "\n",
    "i = 1\n",
    "\n",
    "while i <10:\n",
    "\n",
    "    sum = sum + i\n",
    "    i = i + 1"
   ]
  },
  {
   "cell_type": "markdown",
   "metadata": {},
   "source": [
    "## 错误示例：\n",
    "sum = 0\n",
    "\n",
    "i = 1\n",
    "\n",
    "while i <10:\n",
    "\n",
    "    sum = sum + i\n",
    "\n",
    "i = i + 1\n",
    "- 一旦进入死循环可按 Ctrl + c 停止"
   ]
  },
  {
   "cell_type": "markdown",
   "metadata": {},
   "source": [
    "## EP：\n",
    "![](../Photo/143.png)\n",
    "![](../Photo/144.png)"
   ]
  },
  {
   "cell_type": "code",
   "execution_count": null,
   "metadata": {},
   "outputs": [],
   "source": [
    "number = eval(input('Enter an integer:'))\n",
    "max=number\n",
    "while number !=0:\n",
    "    number =eval(input('Enter an integer:'))\n",
    "    if number >max:\n",
    "        max=number\n",
    "    print('max is' , max)\n",
    "    print('number',number)"
   ]
  },
  {
   "cell_type": "markdown",
   "metadata": {},
   "source": [
    "# 验证码\n",
    "- 随机产生四个字母的验证码，如果正确，输出验证码正确。如果错误，产生新的验证码，用户重新输入。\n",
    "- 验证码只能输入三次，如果三次都错，返回“别爬了，我们小网站没什么好爬的”\n",
    "- 密码登录，如果三次错误，账号被锁定\n"
   ]
  },
  {
   "cell_type": "code",
   "execution_count": 2,
   "metadata": {},
   "outputs": [
    {
     "name": "stdout",
     "output_type": "stream",
     "text": [
      "yjhz\n"
     ]
    }
   ],
   "source": [
    "import random\n",
    "i = 4\n",
    "b = ''\n",
    "while i>0:\n",
    "    a = random.randint(97,122)\n",
    "    b = b+chr(a)\n",
    "    i -= 1\n",
    "print(b)"
   ]
  },
  {
   "cell_type": "code",
   "execution_count": 1,
   "metadata": {},
   "outputs": [
    {
     "name": "stdout",
     "output_type": "stream",
     "text": [
      "rspy\n",
      "请输入验证码：adsf\n",
      "验证码错误\n",
      "rspy\n",
      "请输入验证码：rspy\n",
      "验证码正确\n"
     ]
    }
   ],
   "source": [
    "import random\n",
    "i=4\n",
    "b=''\n",
    "while i>0:\n",
    "    a = chr(random.randint(97,122))\n",
    "    b = b+a\n",
    "    i-=1\n",
    "i=3\n",
    "while i>0:\n",
    "    print(b)\n",
    "    s=input('请输入验证码：')\n",
    "    if s==b:\n",
    "        print('验证码正确')\n",
    "        break\n",
    "    else:\n",
    "        i-=1\n",
    "        print('验证码错误')\n",
    "if i==0:\n",
    "            print('别爬了，我们小网站没什么好爬的！')\n",
    "    "
   ]
  },
  {
   "cell_type": "code",
   "execution_count": 2,
   "metadata": {},
   "outputs": [],
   "source": [
    "j=0"
   ]
  },
  {
   "cell_type": "code",
   "execution_count": 4,
   "metadata": {},
   "outputs": [
    {
     "name": "stdout",
     "output_type": "stream",
     "text": [
      "账号锁定\n"
     ]
    }
   ],
   "source": [
    "password = 'Joker'\n",
    "i = 0\n",
    "if j !=3:\n",
    "    while i < 3:\n",
    "        pass_=input('>>')\n",
    "        if pass_ == password:\n",
    "            print('OK')\n",
    "            break\n",
    "        else:\n",
    "            print('Error')\n",
    "            i +=1\n",
    "    j = i\n",
    "else:\n",
    "    print('账号锁定')"
   ]
  },
  {
   "cell_type": "code",
   "execution_count": 12,
   "metadata": {},
   "outputs": [
    {
     "data": {
      "image/png": "[encoded data removed]",
      "text/plain": [
       "<matplotlib.figure.Figure at 0x17bef12b390>"
      ]
     },
     "metadata": {},
     "output_type": "display_data"
    }
   ],
   "source": [
    "import matplotlib.pyplot as plt\n",
    "list_ = [1,2,3,4,5,6,7]\n",
    "list__ = [4,5,6,7,8,9,8]\n",
    "plt.plot(list_,list__)\n",
    "plt.show()"
   ]
  },
  {
   "cell_type": "code",
   "execution_count": 19,
   "metadata": {},
   "outputs": [
    {
     "data": {
      "image/png": "[encoded data removed]",
      "text/plain": [
       "<matplotlib.figure.Figure at 0x17bee67aba8>"
      ]
     },
     "metadata": {},
     "output_type": "display_data"
    }
   ],
   "source": [
    "import matplotlib.pyplot as plt1\n",
    "y_list=[]\n",
    "x_list=[]\n",
    "for x in range(-50,50,1):\n",
    "    y = x**2\n",
    "    x_list.append(x)\n",
    "    y_list.append(y)\n",
    "#print(x_list)\n",
    "#print(y_list)\n",
    "plt1.plot(x_list,y_list)\n",
    "plt1.show()"
   ]
  },
  {
   "cell_type": "markdown",
   "metadata": {},
   "source": [
    "## 尝试死循环"
   ]
  },
  {
   "cell_type": "markdown",
   "metadata": {},
   "source": [
    "## 实例研究：猜数字\n",
    "- 你将要编写一个能够随机生成一个0到10之间的且包括两者的数字程序，这个程序\n",
    "- 提示用户连续地输入数字直到正确，且提示用户输入的数字是过高还是过低"
   ]
  },
  {
   "cell_type": "code",
   "execution_count": 24,
   "metadata": {},
   "outputs": [
    {
     "name": "stdout",
     "output_type": "stream",
     "text": [
      "输入一个数字：0\n",
      "输入正确\n"
     ]
    }
   ],
   "source": [
    "import random\n",
    "a=random.randint(0,10)\n",
    "b=eval(input('输入一个数字：'))\n",
    "while 1:\n",
    "    if a==b:\n",
    "        print('输入正确')\n",
    "        break\n",
    "    elif b>a:\n",
    "        print('数字过高')\n",
    "    else:\n",
    "        print('数字过低')\n",
    "    b=eval(input('请重新输入：'))\n",
    "        "
   ]
  },
  {
   "cell_type": "markdown",
   "metadata": {},
   "source": [
    "## 使用哨兵值来控制循环\n",
    "- 哨兵值来表明输入的结束\n",
    "- ![](../Photo/54.png)"
   ]
  },
  {
   "cell_type": "code",
   "execution_count": 25,
   "metadata": {},
   "outputs": [
    {
     "name": "stdout",
     "output_type": "stream",
     "text": [
      "Enter an integer(the input ends if it is 0):240\n",
      "Enter an integer (the input endsif it is 0):354450\n",
      "Enter an integer (the input endsif it is 0):45\n",
      "Enter an integer (the input endsif it is 0):3245\n",
      "Enter an integer (the input endsif it is 0):0\n",
      "The sum is 357980\n"
     ]
    }
   ],
   "source": [
    "date =eval(input(\"Enter an integer(the input ends\" +\" if it is 0):\"))\n",
    "#Keep reading date until the input is 0\n",
    "sum =0\n",
    "while date !=0:\n",
    "    sum +=date\n",
    "    date=eval(input(\"Enter an integer (the input ends \" + \"if it is 0):\"))\n",
    "print('The sum is',sum)"
   ]
  },
  {
   "cell_type": "markdown",
   "metadata": {},
   "source": [
    "## 警告\n",
    "![](../Photo/55.png)"
   ]
  },
  {
   "cell_type": "markdown",
   "metadata": {},
   "source": [
    "## for 循环\n",
    "- Python的for 循环通过一个序列中的每个值来进行迭代\n",
    "- range(a,b,k)， a，b，k 必须为整数\n",
    "- a: start\n",
    "- b: end\n",
    "- k: step\n",
    "- 注意for 是循环一切可迭代对象，而不是只能使用range"
   ]
  },
  {
   "cell_type": "markdown",
   "metadata": {},
   "source": [
    "# 在Python里面一切皆对象"
   ]
  },
  {
   "cell_type": "markdown",
   "metadata": {},
   "source": [
    "## EP:\n",
    "- ![](../Photo/145.png)"
   ]
  },
  {
   "cell_type": "code",
   "execution_count": 28,
   "metadata": {},
   "outputs": [
    {
     "name": "stdout",
     "output_type": "stream",
     "text": [
      "500500\n"
     ]
    }
   ],
   "source": [
    "sum=0\n",
    "for i in range(1001):\n",
    "    sum=sum+i\n",
    "print(str(sum))"
   ]
  },
  {
   "cell_type": "code",
   "execution_count": 29,
   "metadata": {},
   "outputs": [
    {
     "name": "stdout",
     "output_type": "stream",
     "text": [
      "500500\n"
     ]
    }
   ],
   "source": [
    "sum=0\n",
    "i=0\n",
    "while i<1000:\n",
    "    i+=1\n",
    "    sum+=i\n",
    "print(str(sum))    "
   ]
  },
  {
   "cell_type": "code",
   "execution_count": 26,
   "metadata": {},
   "outputs": [
    {
     "data": {
      "text/plain": [
       "['__abs__',\n",
       " '__add__',\n",
       " '__and__',\n",
       " '__bool__',\n",
       " '__ceil__',\n",
       " '__class__',\n",
       " '__delattr__',\n",
       " '__dir__',\n",
       " '__divmod__',\n",
       " '__doc__',\n",
       " '__eq__',\n",
       " '__float__',\n",
       " '__floor__',\n",
       " '__floordiv__',\n",
       " '__format__',\n",
       " '__ge__',\n",
       " '__getattribute__',\n",
       " '__getnewargs__',\n",
       " '__gt__',\n",
       " '__hash__',\n",
       " '__index__',\n",
       " '__init__',\n",
       " '__init_subclass__',\n",
       " '__int__',\n",
       " '__invert__',\n",
       " '__le__',\n",
       " '__lshift__',\n",
       " '__lt__',\n",
       " '__mod__',\n",
       " '__mul__',\n",
       " '__ne__',\n",
       " '__neg__',\n",
       " '__new__',\n",
       " '__or__',\n",
       " '__pos__',\n",
       " '__pow__',\n",
       " '__radd__',\n",
       " '__rand__',\n",
       " '__rdivmod__',\n",
       " '__reduce__',\n",
       " '__reduce_ex__',\n",
       " '__repr__',\n",
       " '__rfloordiv__',\n",
       " '__rlshift__',\n",
       " '__rmod__',\n",
       " '__rmul__',\n",
       " '__ror__',\n",
       " '__round__',\n",
       " '__rpow__',\n",
       " '__rrshift__',\n",
       " '__rshift__',\n",
       " '__rsub__',\n",
       " '__rtruediv__',\n",
       " '__rxor__',\n",
       " '__setattr__',\n",
       " '__sizeof__',\n",
       " '__str__',\n",
       " '__sub__',\n",
       " '__subclasshook__',\n",
       " '__truediv__',\n",
       " '__trunc__',\n",
       " '__xor__',\n",
       " 'bit_length',\n",
       " 'conjugate',\n",
       " 'denominator',\n",
       " 'from_bytes',\n",
       " 'imag',\n",
       " 'numerator',\n",
       " 'real',\n",
       " 'to_bytes']"
      ]
     },
     "execution_count": 26,
     "metadata": {},
     "output_type": "execute_result"
    }
   ],
   "source": [
    "dir(a)"
   ]
  },
  {
   "cell_type": "markdown",
   "metadata": {},
   "source": [
    "## 嵌套循环\n",
    "- 一个循环可以嵌套另一个循环\n",
    "- 每次循环外层时，内层循环都会被刷新重新完成循环\n",
    "- 也就是说，大循环执行一次，小循环会全部执行一次\n",
    "- 注意：\n",
    "> - 多层循环非常耗时\n",
    "  - 最多使用3层循环"
   ]
  },
  {
   "cell_type": "markdown",
   "metadata": {},
   "source": [
    "## EP：\n",
    "- 使用多层循环完成9X9乘法表\n",
    "- 显示50以内所有的素数"
   ]
  },
  {
   "cell_type": "code",
   "execution_count": 59,
   "metadata": {},
   "outputs": [
    {
     "name": "stdout",
     "output_type": "stream",
     "text": [
      "1*1=1 \n",
      "\n",
      "2*1=2 2*2=4 \n",
      "\n",
      "3*1=3 3*2=6 3*3=9 \n",
      "\n",
      "4*1=4 4*2=8 4*3=12 4*4=16 \n",
      "\n",
      "5*1=5 5*2=10 5*3=15 5*4=20 5*5=25 \n",
      "\n",
      "6*1=6 6*2=12 6*3=18 6*4=24 6*5=30 6*6=36 \n",
      "\n",
      "7*1=7 7*2=14 7*3=21 7*4=28 7*5=35 7*6=42 7*7=49 \n",
      "\n",
      "8*1=8 8*2=16 8*3=24 8*4=32 8*5=40 8*6=48 8*7=56 8*8=64 \n",
      "\n",
      "9*1=9 9*2=18 9*3=27 9*4=36 9*5=45 9*6=54 9*7=63 9*8=72 9*9=81 \n",
      "\n"
     ]
    }
   ],
   "source": [
    "for i in range(1,10):\n",
    "    for j in range(1,i+1):\n",
    "        print(str(i)+\"*\"+str(j) + \"=\"+str(i*j),end=\" \")\n",
    "    print('\\n')"
   ]
  },
  {
   "cell_type": "code",
   "execution_count": 75,
   "metadata": {},
   "outputs": [
    {
     "name": "stdout",
     "output_type": "stream",
     "text": [
      "2\n",
      "3\n",
      "5\n",
      "7\n",
      "11\n",
      "13\n",
      "17\n",
      "19\n",
      "23\n",
      "29\n",
      "31\n",
      "37\n",
      "41\n",
      "43\n",
      "47\n"
     ]
    }
   ],
   "source": [
    "for i in range(2,50):\n",
    "    for j in range(2,i):\n",
    "        if i%j==0:\n",
    "            break\n",
    "    else:\n",
    "        print(str(i))\n",
    "    "
   ]
  },
  {
   "cell_type": "markdown",
   "metadata": {},
   "source": [
    "## 关键字 break 和 continue\n",
    "- break 跳出循环，终止循环\n",
    "- continue 跳出此次循环，继续执行\n",
    "\n"
   ]
  },
  {
   "cell_type": "code",
   "execution_count": null,
   "metadata": {},
   "outputs": [],
   "source": [
    "try:\n",
    "    尝试执行\n",
    "    "
   ]
  },
  {
   "cell_type": "markdown",
   "metadata": {},
   "source": [
    "## 注意\n",
    "![](../Photo/56.png)\n",
    "![](../Photo/57.png)"
   ]
  },
  {
   "cell_type": "markdown",
   "metadata": {},
   "source": [
    "# Homework\n",
    "- 1 \n",
    "![](../Photo/58.png)"
   ]
  },
  {
   "cell_type": "code",
   "execution_count": 81,
   "metadata": {},
   "outputs": [
    {
     "name": "stdout",
     "output_type": "stream",
     "text": [
      "Enter an integer(the input ends if it is 0):1\n",
      "Enter an integer (the input ends if it is 0):2\n",
      "Enter an integer (the input ends if it is 0):-1\n",
      "Enter an integer (the input ends if it is 0):3\n",
      "Enter an integer (the input ends if it is 0):0\n",
      "和为： 5\n",
      "平均值为： 1.25\n",
      "正数个数： 3\n",
      "负数个数： 1\n"
     ]
    }
   ],
   "source": [
    "date =eval(input(\"Enter an integer(the input ends\" +\" if it is 0):\"))\n",
    "sum =0\n",
    "z=0\n",
    "f=0\n",
    "while date !=0:\n",
    "    if date>0:\n",
    "        z+=1\n",
    "    else:\n",
    "        f+=1\n",
    "    sum +=date\n",
    "    date=eval(input(\"Enter an integer (the input ends \" + \"if it is 0):\"))\n",
    "v=sum/(z+f)\n",
    "print('和为：',sum)\n",
    "print('平均值为：',v)\n",
    "print('正数个数：',z)\n",
    "print('负数个数：',f)"
   ]
  },
  {
   "cell_type": "markdown",
   "metadata": {},
   "source": [
    "- 2\n",
    "![](../Photo/59.png)"
   ]
  },
  {
   "cell_type": "code",
   "execution_count": 82,
   "metadata": {},
   "outputs": [
    {
     "name": "stdout",
     "output_type": "stream",
     "text": [
      "16288.946267774418\n"
     ]
    }
   ],
   "source": [
    "num=10000\n",
    "s=0\n",
    "for i in range (1,15):\n",
    "    num=num*1.05\n",
    "    if i>=10:\n",
    "        s+=num\n",
    "        \n",
    "print(str(s))    "
   ]
  },
  {
   "cell_type": "markdown",
   "metadata": {},
   "source": [
    "- 3\n",
    "![](../Photo/58.png)"
   ]
  },
  {
   "cell_type": "markdown",
   "metadata": {},
   "source": [
    "- 4\n",
    "![](../Photo/60.png)"
   ]
  },
  {
   "cell_type": "code",
   "execution_count": 84,
   "metadata": {},
   "outputs": [
    {
     "name": "stdout",
     "output_type": "stream",
     "text": [
      "120 150 180 210 240 270 300 330 360 390 \n",
      "\n",
      "420 450 480 510 540 570 600 630 660 690 \n",
      "\n",
      "720 750 780 810 840 870 900 930 960 990 \n",
      "\n"
     ]
    }
   ],
   "source": [
    "s=10\n",
    "for i in range(100,1001):\n",
    "    if i%30==0:\n",
    "        print(str(i),end=\" \")\n",
    "        s-=1\n",
    "        if s==0:\n",
    "            print('\\n')\n",
    "            s=10\n",
    "        "
   ]
  },
  {
   "cell_type": "markdown",
   "metadata": {},
   "source": [
    "- 5\n",
    "![](../Photo/61.png)"
   ]
  },
  {
   "cell_type": "code",
   "execution_count": 95,
   "metadata": {},
   "outputs": [
    {
     "name": "stdout",
     "output_type": "stream",
     "text": [
      "最小的满足条件的n为：110\n",
      "最大的满足条件的n为：22\n"
     ]
    }
   ],
   "source": [
    "n=12000\n",
    "while n*n>12000:\n",
    "    n-=1\n",
    "print('最小的满足条件的n为：' +str(n+1))\n",
    "n=12000\n",
    "while n*n*n>12000:\n",
    "    n-=1\n",
    "print('最大的满足条件的n为：' +str(n))    \n",
    "    "
   ]
  },
  {
   "cell_type": "code",
   "execution_count": 97,
   "metadata": {},
   "outputs": [
    {
     "data": {
      "text/plain": [
       "12167"
      ]
     },
     "execution_count": 97,
     "metadata": {},
     "output_type": "execute_result"
    }
   ],
   "source": [
    "23*23*23\n"
   ]
  },
  {
   "cell_type": "code",
   "execution_count": 93,
   "metadata": {},
   "outputs": [
    {
     "data": {
      "text/plain": [
       "12100"
      ]
     },
     "execution_count": 93,
     "metadata": {},
     "output_type": "execute_result"
    }
   ],
   "source": [
    "110*110"
   ]
  },
  {
   "cell_type": "code",
   "execution_count": 96,
   "metadata": {},
   "outputs": [
    {
     "data": {
      "text/plain": [
       "10648"
      ]
     },
     "execution_count": 96,
     "metadata": {},
     "output_type": "execute_result"
    }
   ],
   "source": [
    "22*22*22"
   ]
  },
  {
   "cell_type": "markdown",
   "metadata": {},
   "source": [
    "- 6\n",
    "![](../Photo/62.png)"
   ]
  },
  {
   "cell_type": "code",
   "execution_count": 99,
   "metadata": {},
   "outputs": [
    {
     "data": {
      "text/plain": [
       "0.00625"
      ]
     },
     "execution_count": 99,
     "metadata": {},
     "output_type": "execute_result"
    }
   ],
   "source": [
    "a=eval(input('贷款数：'))\n",
    "b=eval(input('贷款周期：'))\n",
    "for i in range(5):\n",
    "    r=0.05+i*0.00125\n",
    "       \n"
   ]
  },
  {
   "cell_type": "markdown",
   "metadata": {},
   "source": [
    "- 7\n",
    "![](../Photo/63.png)"
   ]
  },
  {
   "cell_type": "code",
   "execution_count": 104,
   "metadata": {},
   "outputs": [
    {
     "name": "stdout",
     "output_type": "stream",
     "text": [
      "从右到左合计：11.397003949278519\n",
      "从右到左合计：11.397003949278504\n"
     ]
    }
   ],
   "source": [
    "num1=0\n",
    "num2=0\n",
    "n=50000\n",
    "for i in range(1,n+1):\n",
    "    num1=num1+1/n\n",
    "    n-=1\n",
    "print('从右到左合计：'+str(num1))    \n",
    "n=50000\n",
    "for i in range(1,n+1):\n",
    "    num2=num2+1/i\n",
    "print('从右到左合计：'+str(num2))    \n",
    "    "
   ]
  },
  {
   "cell_type": "markdown",
   "metadata": {},
   "source": [
    "- 8\n",
    "![](../Photo/64.png)"
   ]
  },
  {
   "cell_type": "code",
   "execution_count": null,
   "metadata": {},
   "outputs": [],
   "source": [
    "a=1\n",
    "b=3\n",
    "num5=0\n",
    "while a<99:\n",
    "    num5 +=a/b\n",
    "    a=b\n",
    "    b=b+2\n",
    "print(num5)    "
   ]
  },
  {
   "cell_type": "markdown",
   "metadata": {},
   "source": [
    "- 9\n",
    "![](../Photo/65.png)"
   ]
  },
  {
   "cell_type": "code",
   "execution_count": 116,
   "metadata": {},
   "outputs": [
    {
     "name": "stdout",
     "output_type": "stream",
     "text": [
      "当i=10000时，PI=3.1414926535900345\n",
      "当i=20000时，PI=3.1415426535898248\n",
      "当i=30000时，PI=3.141559320256462\n",
      "当i=40000时，PI=3.1415676535897985\n",
      "当i=50000时，PI=3.1415726535897814\n",
      "当i=60000时，PI=3.141575986923102\n",
      "当i=70000时，PI=3.141578367875482\n",
      "当i=80000时，PI=3.1415801535897496\n",
      "当i=90000时，PI=3.1415815424786238\n",
      "当i=100000时，PI=3.1415826535897198\n"
     ]
    }
   ],
   "source": [
    "s=0\n",
    "i=10000\n",
    "while(i<=100000):\n",
    "    for j in range(1,i+1):\n",
    "        s=s+(-1)**(j+1)/(2*j-1)\n",
    "    p=4*s\n",
    "    print('当i='+ str(i) +'时，PI='+str(p))\n",
    "    i=i+10000\n",
    "    s=0\n",
    "    "
   ]
  },
  {
   "cell_type": "markdown",
   "metadata": {},
   "source": [
    "- 10 \n",
    "![](../Photo/66.png)"
   ]
  },
  {
   "cell_type": "code",
   "execution_count": 119,
   "metadata": {},
   "outputs": [
    {
     "name": "stdout",
     "output_type": "stream",
     "text": [
      "  8128\n",
      "  496\n",
      "  28\n",
      "  6\n"
     ]
    }
   ],
   "source": [
    "a=10000\n",
    "s=0\n",
    "while a>0:\n",
    "    for i in range(1,a):\n",
    "        \n",
    "        if a%i==0:\n",
    "            s=s+i\n",
    "    if s==a:\n",
    "        print(' ',s)\n",
    "    s=0\n",
    "    a-=1\n",
    "        "
   ]
  },
  {
   "cell_type": "markdown",
   "metadata": {},
   "source": [
    "- 11\n",
    "![](../Photo/67.png)"
   ]
  },
  {
   "cell_type": "code",
   "execution_count": 128,
   "metadata": {},
   "outputs": [
    {
     "name": "stdout",
     "output_type": "stream",
     "text": [
      "1 2\n",
      "1 3\n",
      "1 4\n",
      "1 5\n",
      "1 6\n",
      "1 7\n",
      "2 3\n",
      "2 4\n",
      "2 5\n",
      "2 6\n",
      "2 7\n",
      "3 4\n",
      "3 5\n",
      "3 6\n",
      "3 7\n",
      "4 5\n",
      "4 6\n",
      "4 7\n",
      "5 6\n",
      "5 7\n",
      "6 7\n",
      "共 21 种组合方式\n"
     ]
    }
   ],
   "source": [
    "s=0\n",
    "for i in range (1,8):\n",
    "    for j in range (i+1,8):\n",
    "        print(i,j)\n",
    "        s=s+1\n",
    "print('共',s,'种组合方式')"
   ]
  },
  {
   "cell_type": "markdown",
   "metadata": {},
   "source": [
    "- 12\n",
    "![](../Photo/68.png)"
   ]
  },
  {
   "cell_type": "code",
   "execution_count": 131,
   "metadata": {
    "scrolled": false
   },
   "outputs": [
    {
     "name": "stdout",
     "output_type": "stream",
     "text": [
      "输入数字1\n",
      "输入数字2\n",
      "输入数字3\n",
      "输入数字5.5\n",
      "输入数字5.6\n",
      "输入数字6\n",
      "输入数字7\n",
      "输入数字8\n",
      "输入数字9\n",
      "输入数字10\n",
      "5.71\n",
      "2.9733819129065813\n"
     ]
    }
   ],
   "source": [
    "import math\n",
    "fangcha=0\n",
    "s=0\n",
    "q=[]\n",
    "aa=0\n",
    "for i in range(10):\n",
    "    n=eval(input(\"输入数字\"))\n",
    "    q.append(n)\n",
    "    s=s+n\n",
    "    mean=s/10\n",
    "print(mean)\n",
    "for z in range(10):\n",
    "    aa=aa+(q[z]-mean)**2\n",
    "fangcha=math.sqrt(aa/9)\n",
    "print(fangcha)"
   ]
  },
  {
   "cell_type": "code",
   "execution_count": 122,
   "metadata": {
    "scrolled": true
   },
   "outputs": [
    {
     "data": {
      "text/plain": [
       "5.71"
      ]
     },
     "execution_count": 122,
     "metadata": {},
     "output_type": "execute_result"
    }
   ],
   "source": [
    "(1  + 2 + 3 + 5.5  + 5.6 + 6 + 7 + 8+ 9  + 10)/10"
   ]
  },
  {
   "cell_type": "code",
   "execution_count": null,
   "metadata": {},
   "outputs": [],
   "source": [
    "(1-5.71) **2 + (2-5.71)**2 + (3-5.71)**2 + (5.5-5.71) *2 + (5.6-5.71) **2 + (6-5.71) **2 + (7-5.71)**2 + (8-5.71)**2 + (9-5.71) **2 + (10-5.71) **2"
   ]
  },
  {
   "cell_type": "code",
   "execution_count": null,
   "metadata": {},
   "outputs": [],
   "source": []
  }
 ],
 "metadata": {
  "kernelspec": {
   "display_name": "Python 3",
   "language": "python",
   "name": "python3"
  },
  "language_info": {
   "codemirror_mode": {
    "name": "ipython",
    "version": 3
   },
   "file_extension": ".py",
   "mimetype": "text/x-python",
   "name": "python",
   "nbconvert_exporter": "python",
   "pygments_lexer": "ipython3",
   "version": "3.6.4"
  }
 },
 "nbformat": 4,
 "nbformat_minor": 2
}
