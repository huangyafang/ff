{
 "cells": [
  {
   "cell_type": "markdown",
   "metadata": {},
   "source": [
    "# 选择\n",
    "## 布尔类型、数值和表达式\n",
    "![](../Photo/33.png)\n",
    "- 注意：比较运算符的相等是两个等到，一个等到代表赋值\n",
    "- 在Python中可以用整型0来代表False，其他数字来代表True\n",
    "- 后面还会讲到 is 在判断语句中的用发"
   ]
  },
  {
   "cell_type": "code",
   "execution_count": 17,
   "metadata": {},
   "outputs": [
    {
     "name": "stdout",
     "output_type": "stream",
     "text": [
      "True\n"
     ]
    }
   ],
   "source": [
    "print(1<2)\n",
    "c=100"
   ]
  },
  {
   "cell_type": "code",
   "execution_count": null,
   "metadata": {},
   "outputs": [],
   "source": [
    "#is判断内存地址\n",
    "#mail\n",
    "SMTP_server = \"= \"smtp.163.com\"  #\"  # 163邮箱服务端,必须使用163邮箱\n",
    "Sender = \"\"  # 自己的163账号\n",
    "password = ''  # 自己的163密码\n",
    "\n",
    "from email.mime.text import MIMEText  # 邮件文本转换\n",
    "import smtplib  # 发送邮件\n",
    "from Config import *\n",
    "\n",
    "\n",
    "def Send_Email(accept_email, SMTP_server, Sender, password):\n",
    "    print('邮箱开始发送...')\n",
    "    # 三个参数：第一个为文本内容，第二个设置发送文本格式plain，第三个被文件utf-8 设置编码\n",
    "    msg = MIMEText('票已经抢到，尽快付款')  # 转为邮件文本,\n",
    "    msg[\"Subject\"] = \"高手高手高高手\"  # 标题\n",
    "    msg[\"From\"] = Sender  # 发送者\n",
    "\n",
    "    mail_sever = smtplib.SMTP(SMTP_server, 25)  # 链接邮箱端，端口号25\n",
    "\n",
    "    mail_sever.login(Sender, password)  # 登录邮箱\n",
    "    # 要发送的邮箱号\n",
    "    email_list = [accept_email]\n",
    "    for EMAIL in email_list:\n",
    "        mail_sever.sendmail(Sender, EMAIL, msg.as_string())\n",
    "\n",
    "    # 关闭邮箱\n",
    "    mail_sever.quit()\n",
    "    print(\"邮箱发送成功 \")"
   ]
  },
  {
   "cell_type": "code",
   "execution_count": 19,
   "metadata": {
    "scrolled": true
   },
   "outputs": [
    {
     "name": "stdout",
     "output_type": "stream",
     "text": [
      "欢迎进入余额系统！\n",
      "取款金额：78\n",
      "您的余额不足,请充值！\n"
     ]
    }
   ],
   "source": [
    "#余额系统\n",
    "print('欢迎进入余额系统！')\n",
    "i=eval(input('取款金额：'))\n",
    "if i<=c:\n",
    "    c=c-i\n",
    "    print('取款成功！您的余额为' + str(c))\n",
    "    send_message()\n",
    "else:\n",
    "    print('您的余额不足,请充值！')\n"
   ]
  },
  {
   "cell_type": "code",
   "execution_count": null,
   "metadata": {},
   "outputs": [],
   "source": [
    "#老师的余额系统\n",
    "init_account = 100\n",
    "get_money = eval(input('Money'))\n",
    "if init_account >= get_money:\n",
    "    print('消费',get_money)\n",
    "    res = init_account - get_money\n",
    "    init_account = res\n",
    "    print('余额',res)\n",
    "#     send_message() # 函数\n",
    "else:\n",
    "    print('余额不足，请充值')"
   ]
  },
  {
   "cell_type": "markdown",
   "metadata": {},
   "source": [
    "## 字符串的比较使用ASCII值"
   ]
  },
  {
   "cell_type": "code",
   "execution_count": 20,
   "metadata": {},
   "outputs": [
    {
     "data": {
      "text/plain": [
       "False"
      ]
     },
     "execution_count": 20,
     "metadata": {},
     "output_type": "execute_result"
    }
   ],
   "source": [
    "'A'>'a'"
   ]
  },
  {
   "cell_type": "code",
   "execution_count": 21,
   "metadata": {},
   "outputs": [
    {
     "data": {
      "text/plain": [
       "False"
      ]
     },
     "execution_count": 21,
     "metadata": {},
     "output_type": "execute_result"
    }
   ],
   "source": [
    "'Abc'>'Abd'"
   ]
  },
  {
   "cell_type": "markdown",
   "metadata": {},
   "source": [
    "## Markdown \n",
    "- https://github.com/younghz/Markdown"
   ]
  },
  {
   "cell_type": "markdown",
   "metadata": {},
   "source": [
    "## EP:\n",
    "- <img src=\"../Photo/34.png\"></img>\n",
    "- 输入一个数字，判断其实奇数还是偶数"
   ]
  },
  {
   "cell_type": "code",
   "execution_count": 26,
   "metadata": {},
   "outputs": [],
   "source": [
    "i=int(True)\n",
    "j=int(False)\n",
    "b1=bool(4)\n",
    "b2=bool(0)\n"
   ]
  },
  {
   "cell_type": "markdown",
   "metadata": {},
   "source": [
    "## 产生随机数字\n",
    "- 函数random.randint(a,b) 可以用来产生一个a和b之间且包括a和b的随机整数"
   ]
  },
  {
   "cell_type": "markdown",
   "metadata": {},
   "source": [
    "##  其他random方法\n",
    "- random.random 返回0.0到1.0之间前闭后开区间的随机浮点\n",
    "- random.randrange(a,b) 前闭后开"
   ]
  },
  {
   "cell_type": "code",
   "execution_count": 23,
   "metadata": {},
   "outputs": [],
   "source": [
    "import random"
   ]
  },
  {
   "cell_type": "code",
   "execution_count": 25,
   "metadata": {},
   "outputs": [
    {
     "data": {
      "text/plain": [
       "4"
      ]
     },
     "execution_count": 25,
     "metadata": {},
     "output_type": "execute_result"
    }
   ],
   "source": [
    "random.randint(1,9)"
   ]
  },
  {
   "cell_type": "markdown",
   "metadata": {},
   "source": [
    "## EP：\n",
    "- 产生两个随机整数number1和number2，然后显示给用户，使用户输入数字的和，并判定其是否正确\n",
    "- 进阶:写一个随机序号点名程序"
   ]
  },
  {
   "cell_type": "code",
   "execution_count": 30,
   "metadata": {},
   "outputs": [
    {
     "name": "stdout",
     "output_type": "stream",
     "text": [
      "5+9=14\n",
      "True\n"
     ]
    }
   ],
   "source": [
    "number1 = random.randint(1,9)\n",
    "number2 = random.randint(1,9)\n",
    "number3 = eval(input(str(number1) + '+' +str(number2) + '='))\n",
    "print(number3 == number1+number2)\n",
    "               "
   ]
  },
  {
   "cell_type": "code",
   "execution_count": 32,
   "metadata": {},
   "outputs": [
    {
     "name": "stdout",
     "output_type": "stream",
     "text": [
      "55\n"
     ]
    }
   ],
   "source": [
    "#点名程序\n",
    "nu1=random.randint(1,10)\n",
    "nu2=random.randint(1,5)\n",
    "print (str(nu1) + str(nu2))"
   ]
  },
  {
   "cell_type": "markdown",
   "metadata": {},
   "source": [
    "## if语句\n",
    "- 如果条件正确就执行一个单向if语句，亦即当条件为真的时候才执行if内部的语句\n",
    "- Python有很多选择语句:\n",
    "> - 单向if \n",
    "  - 双向if-else\n",
    "  - 嵌套if\n",
    "  - 多向if-elif-else\n",
    "  \n",
    "- 注意：当语句含有子语句的时候，那么一定至少要有一个缩进，也就是说如果有儿子存在，那么一定要缩进\n",
    "- 切记不可tab键和space混用，单用tab 或者 space\n",
    "- 当你输出的结果是无论if是否为真时都需要显示时，语句应该与if对齐"
   ]
  },
  {
   "cell_type": "markdown",
   "metadata": {},
   "source": [
    "## EP：\n",
    "- 用户输入一个数字，判断其实奇数还是偶数\n",
    "- 进阶：可以查看下4.5实例研究猜生日"
   ]
  },
  {
   "cell_type": "code",
   "execution_count": 34,
   "metadata": {},
   "outputs": [
    {
     "name": "stdout",
     "output_type": "stream",
     "text": [
      "输入一个数：7\n",
      "奇数\n"
     ]
    }
   ],
   "source": [
    "#判断奇数还是偶数\n",
    "n=eval(input('输入一个数：'))\n",
    "if n%2 == 0:\n",
    "    print ('偶数')\n",
    "else:\n",
    "    print ('奇数')"
   ]
  },
  {
   "cell_type": "code",
   "execution_count": 33,
   "metadata": {},
   "outputs": [
    {
     "name": "stdout",
     "output_type": "stream",
     "text": [
      "请输入成绩：76\n",
      "C\n"
     ]
    }
   ],
   "source": [
    "cj=eval(input('请输入成绩：'))\n",
    "if cj>90:\n",
    "    print('A')\n",
    "elif cj>80:\n",
    "    print('B')\n",
    "elif cj>70:\n",
    "    print ('C')\n",
    "else:\n",
    "    print('不及格')\n"
   ]
  },
  {
   "cell_type": "code",
   "execution_count": null,
   "metadata": {},
   "outputs": [],
   "source": []
  },
  {
   "cell_type": "markdown",
   "metadata": {},
   "source": [
    "## 双向if-else 语句\n",
    "- 如果条件为真，那么走if内部语句，否则走else内部语句"
   ]
  },
  {
   "cell_type": "markdown",
   "metadata": {},
   "source": [
    "## EP：\n",
    "- 产生两个随机整数number1和number2，然后显示给用户，使用户输入数字，并判定其是否正确,如果正确打印“you‘re correct”，否则打印正确错误"
   ]
  },
  {
   "cell_type": "markdown",
   "metadata": {},
   "source": [
    "## 嵌套if 和多向if-elif-else\n",
    "![](../Photo/35.png)"
   ]
  },
  {
   "cell_type": "markdown",
   "metadata": {},
   "source": [
    "## EP：\n",
    "- 提示用户输入一个年份，然后显示表示这一年的动物\n",
    "![](../Photo/36.png)\n",
    "- 计算身体质量指数的程序\n",
    "- BMI = 以千克为单位的体重除以以米为单位的身高\n",
    "![](../Photo/37.png)"
   ]
  },
  {
   "cell_type": "code",
   "execution_count": 39,
   "metadata": {},
   "outputs": [
    {
     "name": "stdout",
     "output_type": "stream",
     "text": [
      "输入体重：56,1.69\n",
      "标准\n"
     ]
    }
   ],
   "source": [
    "体重,身高 = eval(input('输入体重：'))\n",
    "BMI=体重/(身高*身高)\n",
    "if BMI>=30.0:\n",
    "    print('疵肥')\n",
    "elif 30.0>BMI>=25.0:\n",
    "    print('超重')\n",
    "elif 25.0>BMI>=18.5:\n",
    "    print('标准')\n",
    "else:\n",
    "    print('超轻')\n"
   ]
  },
  {
   "cell_type": "code",
   "execution_count": 35,
   "metadata": {},
   "outputs": [
    {
     "name": "stdout",
     "output_type": "stream",
     "text": [
      "输入年份：2018\n",
      "狗\n"
     ]
    }
   ],
   "source": [
    "tie = eval(input('输入年份：'))\n",
    "if(tie%12==0):\n",
    "    print('猴')\n",
    "elif tie%12==1:\n",
    "    print('鸡')\n",
    "elif tie%12==2:\n",
    "    print('狗')\n",
    "elif tie%12==3:\n",
    "    print('猪')\n",
    "elif tie%12==4:\n",
    "    print('鼠')\n",
    "elif tie%12==5:\n",
    "    print('牛')\n",
    "elif tie%12==6:\n",
    "    print('虎')\n",
    "elif tie%12==7:\n",
    "    print('兔')\n",
    "elif tie%12==8:\n",
    "    print('龙')\n",
    "elif tie%12==9:\n",
    "    print('蛇')\n",
    "elif tie%12==10:\n",
    "    print('马')\n",
    "else:\n",
    "    print('羊')"
   ]
  },
  {
   "cell_type": "markdown",
   "metadata": {},
   "source": [
    "## 逻辑运算符\n",
    "![](../Photo/38.png)"
   ]
  },
  {
   "cell_type": "code",
   "execution_count": null,
   "metadata": {},
   "outputs": [],
   "source": []
  },
  {
   "cell_type": "code",
   "execution_count": 1,
   "metadata": {},
   "outputs": [
    {
     "data": {
      "text/plain": [
       "False"
      ]
     },
     "execution_count": 1,
     "metadata": {},
     "output_type": "execute_result"
    }
   ],
   "source": [
    "1 is not 1"
   ]
  },
  {
   "cell_type": "markdown",
   "metadata": {},
   "source": [
    "![](../Photo/39.png)\n",
    "![](../Photo/40.png)"
   ]
  },
  {
   "cell_type": "code",
   "execution_count": null,
   "metadata": {},
   "outputs": [],
   "source": []
  },
  {
   "cell_type": "markdown",
   "metadata": {},
   "source": [
    "## EP：\n",
    "- 判定闰年：一个年份如果能被4整除但不能被100整除，或者能被400整除，那么这个年份就是闰年\n",
    "- 提示用户输入一个年份，并返回是否是闰年\n",
    "- 提示用户输入一个数字，判断其是否为水仙花数"
   ]
  },
  {
   "cell_type": "code",
   "execution_count": 3,
   "metadata": {},
   "outputs": [
    {
     "name": "stdout",
     "output_type": "stream",
     "text": [
      "输入年份：2000\n",
      "润年\n"
     ]
    }
   ],
   "source": [
    "year = eval(input('输入年份：'))\n",
    "if (year%4==0 and year%100 != 0) or year%400==0:\n",
    "    print('润年')\n",
    "else:\n",
    "    print('平年')"
   ]
  },
  {
   "cell_type": "code",
   "execution_count": 6,
   "metadata": {},
   "outputs": [
    {
     "name": "stdout",
     "output_type": "stream",
     "text": [
      "输入一个三位数：371\n",
      "YES\n"
     ]
    }
   ],
   "source": [
    "n1 = eval(input('输入一个三位数：'))\n",
    "a = n1//100\n",
    "b =n1%100//10\n",
    "c =n1%10\n",
    "if a**3+b**3+c**3==n1:\n",
    "    print('YES')\n",
    "else:\n",
    "    print('NO')"
   ]
  },
  {
   "cell_type": "code",
   "execution_count": 13,
   "metadata": {
    "scrolled": true
   },
   "outputs": [
    {
     "name": "stdout",
     "output_type": "stream",
     "text": [
      "153\n",
      "370\n",
      "371\n",
      "407\n"
     ]
    }
   ],
   "source": [
    "for i in range (100 , 999):\n",
    "    a = i//100\n",
    "    b =i%100//10\n",
    "    c =i%10\n",
    "    if a**3+b**3+c**3==i:\n",
    "        print(str(i))\n"
   ]
  },
  {
   "cell_type": "code",
   "execution_count": 14,
   "metadata": {},
   "outputs": [
    {
     "name": "stdout",
     "output_type": "stream",
     "text": [
      "1479\n"
     ]
    }
   ],
   "source": [
    "for t in range (1000 , 9999):\n",
    "    d=t//1000\n",
    "    i=t%1000\n",
    "    a = i//100\n",
    "    b =i%100//10\n",
    "    c =i%10\n",
    "    if a**3+b**3+c**3+b**3==t:\n",
    "        print(str(t))"
   ]
  },
  {
   "cell_type": "markdown",
   "metadata": {},
   "source": [
    "## 实例研究：彩票\n",
    "![](../Photo/41.png)"
   ]
  },
  {
   "cell_type": "code",
   "execution_count": 6,
   "metadata": {},
   "outputs": [
    {
     "name": "stdout",
     "output_type": "stream",
     "text": [
      "66\n",
      "输入一个两位数：66\n",
      "恭喜你，赢得10000奖金!\n"
     ]
    }
   ],
   "source": [
    "import random\n",
    "r=random.randint(00,99)\n",
    "r1 = int(str(r)[0])\n",
    "r2 = int(str(r)[1])\n",
    "print (str(r))\n",
    "aa = eval(input('输入一个两位数：'))\n",
    "a1 = int(str(aa)[0])\n",
    "a2 = int(str(aa)[1])\n",
    "if aa==r:\n",
    "    print('恭喜你，赢得10000奖金!')\n",
    "elif a2==r1 and a1==r2:\n",
    "    print('恭喜你，赢得3000奖金!')\n",
    "elif a1==r1 or a2==r2:\n",
    "    print('恭喜你，赢得1000奖金!')\n",
    "else:\n",
    "    print ('很遗憾，您没有中奖!')"
   ]
  },
  {
   "cell_type": "markdown",
   "metadata": {},
   "source": [
    "# Homework\n",
    "- 1\n",
    "![](../Photo/42.png)"
   ]
  },
  {
   "cell_type": "code",
   "execution_count": 22,
   "metadata": {},
   "outputs": [
    {
     "name": "stdout",
     "output_type": "stream",
     "text": [
      "Enter a,b,c:1,3,1\n",
      "r1=-0.3819660112501051r2=-2.618033988749895\n"
     ]
    }
   ],
   "source": [
    "import math\n",
    "a,b,c= eval(input('Enter a,b,c:'))\n",
    "d=b*b-4*a*c\n",
    "if d>0:\n",
    "    r1=(-b+math.sqrt(b*b-4*a*c))/(2*a)\n",
    "    r2=(-b-math.sqrt(b*b-4*a*c))/(2*a)\n",
    "    print('r1='+ str(r1) +'r2=' + str(r2))\n",
    "elif d ==0:\n",
    "    r3=-b/2*a\n",
    "    print('r='+str(r1))\n",
    "else:\n",
    "    print('方程无解')"
   ]
  },
  {
   "cell_type": "markdown",
   "metadata": {},
   "source": [
    "- 2\n",
    "![](../Photo/43.png)"
   ]
  },
  {
   "cell_type": "code",
   "execution_count": 21,
   "metadata": {},
   "outputs": [
    {
     "name": "stdout",
     "output_type": "stream",
     "text": [
      "94+60=154\n",
      "True\n"
     ]
    }
   ],
   "source": [
    "import random\n",
    "nn1=random.randint(0,100)\n",
    "nn2=random.randint(0,100)\n",
    "aaa=eval(input( str(nn1) +'+' +str(nn2)+'='))\n",
    "print(aaa==nn1+nn2)"
   ]
  },
  {
   "cell_type": "markdown",
   "metadata": {},
   "source": [
    "- 3\n",
    "![](../Photo/44.png)"
   ]
  },
  {
   "cell_type": "code",
   "execution_count": 23,
   "metadata": {},
   "outputs": [
    {
     "name": "stdout",
     "output_type": "stream",
     "text": [
      "请输入今天周几，周日为0，周一为1：1\n",
      "您要查询第几天？3\n",
      "3天后是周4\n"
     ]
    }
   ],
   "source": [
    "day1=eval(input('请输入今天周几，周日为0，周一为1：'))\n",
    "dayadd= eval(input('您要查询第几天？'))\n",
    "if (day1+dayadd)%7==0:\n",
    "    print(str(dayadd) + '天后是周日')\n",
    "else:\n",
    "    print(str(dayadd) +'天后是周' +str((day1+dayadd)%7 ))"
   ]
  },
  {
   "cell_type": "markdown",
   "metadata": {},
   "source": [
    "- 4\n",
    "![](../Photo/45.png)"
   ]
  },
  {
   "cell_type": "code",
   "execution_count": 25,
   "metadata": {},
   "outputs": [
    {
     "name": "stdout",
     "output_type": "stream",
     "text": [
      "请输入三个整数:2,1,7\n",
      "1<2<7\n"
     ]
    }
   ],
   "source": [
    "m1,m2,m3=eval(input('请输入三个整数:'))\n",
    "s=min(m1,m2,m3)\n",
    "x=max(m1,m2,m3)\n",
    "p=m1+m2+m3-x-s\n",
    "print(str(s) + '<' +str(p)+'<' +str(x))\n"
   ]
  },
  {
   "cell_type": "markdown",
   "metadata": {},
   "source": [
    "- 5\n",
    "![](../Photo/46.png)"
   ]
  },
  {
   "cell_type": "code",
   "execution_count": 28,
   "metadata": {},
   "outputs": [
    {
     "name": "stdout",
     "output_type": "stream",
     "text": [
      "请输入包装1的重量和价格：50,24.59\n",
      "请输入包装2的重量和价格：25,11.99\n",
      "第二种大米更好\n"
     ]
    }
   ],
   "source": [
    "p1w,p1p=eval(input('请输入包装1的重量和价格：'))\n",
    "p2w,p2p=eval(input('请输入包装2的重量和价格：'))\n",
    "if p1w/p1p > p2w/p2p:\n",
    "    print('第一种大米更好')\n",
    "elif p1w/p1p == p2w/p2p:\n",
    "    print('两种大米一样好')\n",
    "else:\n",
    "          print('第二种大米更好')"
   ]
  },
  {
   "cell_type": "markdown",
   "metadata": {},
   "source": [
    "- 6\n",
    "![](../Photo/47.png)"
   ]
  },
  {
   "cell_type": "code",
   "execution_count": 30,
   "metadata": {},
   "outputs": [
    {
     "name": "stdout",
     "output_type": "stream",
     "text": [
      "输入年份和月份：2005,3\n",
      "2005年3月有31天\n"
     ]
    }
   ],
   "source": [
    "year,m = eval(input('输入年份和月份：'))\n",
    "if (m>6 and m%2==0) or (m<8 and m%2==1):\n",
    "    print(str(year) + '年' +str(m)+'月有31天' )\n",
    "elif m==2:\n",
    "    if (year%4==0 and year%100 != 0) or year%400==0:\n",
    "        print(str(year) + '年' +str(m)+'月有29天')\n",
    "    else:\n",
    "        print(str(year) + '年' +str(m)+'月有28天')\n",
    "else:\n",
    "    print((str(year) + '年' +str(m)+'月有30天' ))"
   ]
  },
  {
   "cell_type": "markdown",
   "metadata": {},
   "source": [
    "- 7\n",
    "![](../Photo/48.png)"
   ]
  },
  {
   "cell_type": "code",
   "execution_count": 38,
   "metadata": {},
   "outputs": [
    {
     "name": "stdout",
     "output_type": "stream",
     "text": [
      "猜猜硬币是正面（1）还是反面（0）：0\n",
      "很遗憾，您猜错了，硬币是正面\n"
     ]
    }
   ],
   "source": [
    "import random\n",
    "z=eval(input('猜猜硬币是正面（1）还是反面（0）：'))\n",
    "ss=random.randint(0,1)\n",
    "d='正面'\n",
    "if ss==0:\n",
    "    d='反面'\n",
    "if z==ss:\n",
    "    print('您猜对了！')\n",
    "else:\n",
    "    print('很遗憾，您猜错了，硬币是' + d)"
   ]
  },
  {
   "cell_type": "markdown",
   "metadata": {},
   "source": [
    "- 8\n",
    "![](../Photo/49.png)"
   ]
  },
  {
   "cell_type": "code",
   "execution_count": 40,
   "metadata": {},
   "outputs": [
    {
     "name": "stdout",
     "output_type": "stream",
     "text": [
      "剪刀(0) 石头(1) 布(2)：0\n",
      "您赢了！\n"
     ]
    }
   ],
   "source": [
    "import random\n",
    "z=eval(input('剪刀(0) 石头(1) 布(2)：'))\n",
    "ss=random.randint(0,2)\n",
    "if (ss<z and z-ss==1) or (ss-z==2):\n",
    "    print('您赢了！')\n",
    "elif z==ss:\n",
    "    print('平局')\n",
    "else:\n",
    "    print('很遗憾，您输了！')"
   ]
  },
  {
   "cell_type": "markdown",
   "metadata": {},
   "source": [
    "- 9\n",
    "![](../Photo/50.png)"
   ]
  },
  {
   "cell_type": "code",
   "execution_count": null,
   "metadata": {},
   "outputs": [],
   "source": [
    " import math\n",
    "year=eval(input('年：'))\n",
    "month=eval(input('月：'))\n",
    "day=eval(input('日：'))\n",
    "if month==1:\n",
    "    month=13\n",
    "    year-=1\n",
    "if month==2:\n",
    "    month=14\n",
    "    year-=1\n",
    "j=year//100\n",
    "k=year%100\n",
    "h1=26*(month+1)//10\n",
    "h2=k//4\n",
    "h3=j//4\n",
    "h=(day+h1+k+h2+h3+5*j)%7\n",
    "ggg=[\"周六\",\"周日\",\"周一\",\"周二\",\"周三\",\"周四\",\"周五\"]\n",
    "print(ggg[h])"
   ]
  },
  {
   "cell_type": "code",
   "execution_count": 55,
   "metadata": {},
   "outputs": [
    {
     "name": "stdout",
     "output_type": "stream",
     "text": [
      "输入年份：2012\n",
      "输入月份：5\n",
      "输入当前月份的某天：12\n",
      "Day of the week is 星期六\n"
     ]
    }
   ],
   "source": [
    "year = eval(input('输入年份：'))\n",
    "months = eval(input('输入月份：'))\n",
    "days = eval(input('输入当前月份的某天：'))\n",
    "hdayDict = {0:'星期六',1:'星期日', 2: '星期一', 3: '星期二', 4: '星期三', 5: '星期四', 6: '星期五'}\n",
    "monDict = {1: '13', 2: '14', 3: '3', 4: '4', 5: '5', 6: '6', 7: '7', 8: '8', 9: '9', 10: '10', \\\n",
    "             11: '11', 12: '12'}\n",
    "if months == 1 or months == 2:\n",
    "    year = year - 1 \n",
    "shijishu = year // 100\n",
    "shijiyear = year % 100\n",
    "h = (days + (26 * (eval(monDict[months]) + 1)) // 10 + shijiyear + shijiyear // 4 + shijishu // 4 + 5 * shijishu) % 7\n",
    "print('Day of the week is ' + hdayDict[h])"
   ]
  },
  {
   "cell_type": "markdown",
   "metadata": {},
   "source": [
    "- 10\n",
    "![](../Photo/51.png)"
   ]
  },
  {
   "cell_type": "code",
   "execution_count": 47,
   "metadata": {},
   "outputs": [
    {
     "name": "stdout",
     "output_type": "stream",
     "text": [
      "The card picked is the Ace of 红桃\n"
     ]
    }
   ],
   "source": [
    "import random\n",
    "aaa=[\"Ace\",\"2\",\"3\",\"4\",\"5\",\"6\",\"7\",\"8\",\"9\",\"10\",\"Jack\",\"Queen\",\"King\"]\n",
    "bbb=[\"梅花\",\"红桃\",\"方块\",\"黑桃\"]\n",
    "print('The card picked is the ' + aaa[random.randint(0,14)] +' of ' + bbb[random.randint(0,4)])"
   ]
  },
  {
   "cell_type": "markdown",
   "metadata": {},
   "source": [
    "- 11\n",
    "![](../Photo/52.png)"
   ]
  },
  {
   "cell_type": "code",
   "execution_count": 50,
   "metadata": {},
   "outputs": [
    {
     "name": "stdout",
     "output_type": "stream",
     "text": [
      "输入一个三位整数：121\n",
      "121是回文\n"
     ]
    }
   ],
   "source": [
    "h = eval(input('输入一个三位整数：'))\n",
    "if h//100==h%10:\n",
    "    print(str(h) +'是回文')\n",
    "else:\n",
    "    print(str(h) + '不是回文')"
   ]
  },
  {
   "cell_type": "markdown",
   "metadata": {},
   "source": [
    "- 12\n",
    "![](../Photo/53.png)"
   ]
  },
  {
   "cell_type": "code",
   "execution_count": 51,
   "metadata": {},
   "outputs": [
    {
     "name": "stdout",
     "output_type": "stream",
     "text": [
      "输入三角形的三条边长1,1,1\n",
      "周长为：3\n"
     ]
    }
   ],
   "source": [
    "q,w,e=eval(input('输入三角形的三条边长'))\n",
    "g=max(q,w,e)\n",
    "f1=q+w+e-g\n",
    "f2=f1-min(q,w,e)\n",
    "if f1>g and (max(q,w,e)-min(q,w,e))<f2:\n",
    "    print('周长为：'+str(q+w+e))\n"
   ]
  },
  {
   "cell_type": "code",
   "execution_count": null,
   "metadata": {},
   "outputs": [],
   "source": []
  }
 ],
 "metadata": {
  "kernelspec": {
   "display_name": "Python 3",
   "language": "python",
   "name": "python3"
  },
  "language_info": {
   "codemirror_mode": {
    "name": "ipython",
    "version": 3
   },
   "file_extension": ".py",
   "mimetype": "text/x-python",
   "name": "python",
   "nbconvert_exporter": "python",
   "pygments_lexer": "ipython3",
   "version": "3.6.4"
  }
 },
 "nbformat": 4,
 "nbformat_minor": 2
}
